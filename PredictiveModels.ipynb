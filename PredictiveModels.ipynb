{
 "cells": [
  {
   "cell_type": "markdown",
   "metadata": {},
   "source": [
    "# CS4055 Project Group 7\n",
    "\n",
    "# Notebook 2 - Predictive Modelling\n",
    "\n",
    "__Note:__ This notebook may take 5-10 minutes to run \n",
    "\n",
    "===================================================================================================================\n",
    "\n",
    "# 1 - Imports / Functions"
   ]
  },
  {
   "cell_type": "code",
   "execution_count": 1,
   "metadata": {},
   "outputs": [],
   "source": [
    "import pandas as pd\n",
    "import numpy as np\n",
    "import seaborn as sns\n",
    "import matplotlib.pyplot as plt\n",
    "\n",
    "from sklearn.preprocessing import MinMaxScaler\n",
    "from sklearn.model_selection import train_test_split, GridSearchCV\n",
    "from sklearn.linear_model import LogisticRegression\n",
    "from sklearn.svm import SVR, LinearSVC\n",
    "from sklearn.neighbors import KNeighborsClassifier\n",
    "from sklearn import svm\n",
    "from sklearn.ensemble import RandomForestClassifier\n",
    "from sklearn.feature_selection import RFECV\n",
    "from sklearn.pipeline import Pipeline\n",
    "from sklearn.metrics import confusion_matrix, classification_report"
   ]
  },
  {
   "cell_type": "code",
   "execution_count": 2,
   "metadata": {},
   "outputs": [],
   "source": [
    "# import dataset\n",
    "df = pd.read_csv('./studentPor.csv')"
   ]
  },
  {
   "cell_type": "markdown",
   "metadata": {},
   "source": [
    "__Functions Used in Notebook:__"
   ]
  },
  {
   "cell_type": "code",
   "execution_count": 3,
   "metadata": {},
   "outputs": [],
   "source": [
    "# for extracting the names of features that are selected during the feature selection process\n",
    "def get_feature_names(feature_selector, dataframe, target):\n",
    "    feature_names = dataframe.drop(target, axis=1).columns\n",
    "    selected_features = feature_names[feature_selector.get_support()].tolist()\n",
    "    return selected_features\n",
    "\n",
    "# for plotting a confusion matrix as a heatmap\n",
    "def plot_confusion_matrix_heatmap(true_values, pred_values):\n",
    "    pred_values = pd.Series(pred_values)\n",
    "    array = confusion_matrix(true_values, pred_values)\n",
    "    df_cm = pd.DataFrame(array, index = [i for i in \"ABCDEF\"], columns = [i for i in \"ABCDEF\"])\n",
    "    plt.figure(figsize = (5,4))\n",
    "    ax = sns.heatmap(df_cm, annot=True, annot_kws={\"size\": 13}, cmap=\"Reds\", fmt='g', cbar=False)\n",
    "    ax.xaxis.tick_top()\n",
    "    ax.xaxis.set_label_position('top')\n",
    "    ax.tick_params(length=0)\n",
    "    plt.yticks(rotation=0)\n",
    "    bottom, top = ax.get_ylim()\n",
    "    ax.set_ylim(bottom + 0.5, top - 0.5)\n",
    "    plt.xlabel('Predicted Values')\n",
    "    plt.ylabel('True Values')"
   ]
  },
  {
   "cell_type": "markdown",
   "metadata": {},
   "source": [
    "===================================================================================================================\n",
    "\n",
    "# 2 - Remove Outliers\n",
    "\n",
    "Refer to the EDA_FINAL_DOC Notebook for a detailed explanation of the removal of outliers."
   ]
  },
  {
   "cell_type": "code",
   "execution_count": 4,
   "metadata": {},
   "outputs": [],
   "source": [
    "Q1 = df['absences'].quantile(0.25)\n",
    "Q3 = df['absences'].quantile(0.75)\n",
    "IQR = Q3 - Q1"
   ]
  },
  {
   "cell_type": "code",
   "execution_count": 5,
   "metadata": {},
   "outputs": [],
   "source": [
    "df['iqr'] = (df['absences'] < (Q1 - 1.5 * IQR)) | (df['absences'] > (Q3 + 1.5 * IQR))\n",
    "\n",
    "# a new df with outliers removed\n",
    "df_data = df[df.iqr != True]\n",
    "df_data = df_data.drop('iqr', axis = 1)\n",
    "\n",
    "# reset the dataframe index\n",
    "df_data = df_data.reset_index(drop=True)"
   ]
  },
  {
   "cell_type": "markdown",
   "metadata": {},
   "source": [
    "===================================================================================================================\n",
    "\n",
    "# 3 - Convert Categorical Attributes to Numeric"
   ]
  },
  {
   "cell_type": "code",
   "execution_count": 6,
   "metadata": {},
   "outputs": [],
   "source": [
    "df_dummies = pd.get_dummies(df_data, drop_first=True, columns=['school',\n",
    "                                                               'sex',\n",
    "                                                               'address',\n",
    "                                                               'famsize',\n",
    "                                                               'Pstatus',\n",
    "                                                               'Mjob',\n",
    "                                                               'Fjob',\n",
    "                                                               'reason',\n",
    "                                                               'guardian',\n",
    "                                                               'schoolsup',\n",
    "                                                               'famsup',\n",
    "                                                               'paid',\n",
    "                                                               'activities',\n",
    "                                                               'nursery',\n",
    "                                                               'higher',\n",
    "                                                               'internet',\n",
    "                                                               'romantic'])"
   ]
  },
  {
   "cell_type": "markdown",
   "metadata": {},
   "source": [
    "Note that we have artificially increased the number of features from 33 to 41 in this step.\n",
    "\n",
    "This is beacuse the get_dummies method adds extra features when converting categorical features to numeric.\n",
    "\n",
    "__For example:__\n",
    "\n",
    "If a feature has 3 categories (like __guardian__ - mother, father and other), then the method adds 2 extra features:\n",
    "1. __guardian_mother__ - which will have a value of 0 or 1\n",
    "2. __guradian_other__ - which will have a value of 0 or 1\n",
    "\n",
    "Only one of these features can have a value of 1, and if both are 0 then it means that the guardian is the father by default. The method then deletes the original guardian column with the 2 mentioned here replacing it.\n",
    "\n",
    "===================================================================================================================\n",
    "\n",
    "# 4 - Reduce Target to Fewer Categories\n",
    "\n",
    "Beacuse we have 20 categories to which our target feature may belong, it would be very difficult to train a predictive model to correctly predict 1 of these 20 categories.\n",
    "\n",
    "Our initial instinct was to overcome this by reducing the target feature categories into binary values (pass/fail or 0/1).\n",
    "\n",
    "We explored this and quickly realised this caused imbalance in the target feature."
   ]
  },
  {
   "cell_type": "code",
   "execution_count": 7,
   "metadata": {},
   "outputs": [
    {
     "data": {
      "text/plain": [
       "pass    599\n",
       "fail     29\n",
       "Name: grade, dtype: int64"
      ]
     },
     "execution_count": 7,
     "metadata": {},
     "output_type": "execute_result"
    }
   ],
   "source": [
    "# get the actual values for G3 and save to a numpy array\n",
    "G3 = df_dummies[\"G3\"].values\n",
    "grade = []\n",
    "# iterate through every G3 value and save the corresponding grade category to the grade array\n",
    "for number in G3:\n",
    "    if number >= 8:\n",
    "        grade.append('pass') # pass\n",
    "    else:\n",
    "        grade.append('fail') # fail\n",
    "\n",
    "# convert the grade array to a pandas dataframe\n",
    "grade = pd.DataFrame(data=grade, columns=[\"grade\"])\n",
    "grade['grade'].value_counts()"
   ]
  },
  {
   "cell_type": "markdown",
   "metadata": {},
   "source": [
    "It can be seen that there are far more passes than fails. This imbalance may skew our predictive models and result in a poor performance.\n",
    "\n",
    "We then decided a better approach would be to use the traditional 6 grade categories of A-F.\n",
    "\n",
    "This will give us a better chance of predicting the target as we have only 6 categories instead of 20.\n",
    "\n",
    "This also provides a relatively more balanced target."
   ]
  },
  {
   "cell_type": "code",
   "execution_count": 8,
   "metadata": {},
   "outputs": [
    {
     "data": {
      "text/plain": [
       "3    172\n",
       "4    156\n",
       "2    141\n",
       "1     84\n",
       "0     46\n",
       "5     29\n",
       "Name: grade, dtype: int64"
      ]
     },
     "execution_count": 8,
     "metadata": {},
     "output_type": "execute_result"
    }
   ],
   "source": [
    "grade = []\n",
    "# iterate through every G3 value and save the corresponding grade category to the grade array\n",
    "for number in G3:\n",
    "    if number >= 17:\n",
    "        grade.append('0') # grade = A\n",
    "    elif number >= 15:\n",
    "        grade.append('1') # grade = B\n",
    "    elif number >= 13:\n",
    "        grade.append('2') # grade = C\n",
    "    elif number >= 11:\n",
    "        grade.append('3') # grade = D\n",
    "    elif number >= 8:\n",
    "        grade.append('4') # grade = E\n",
    "    else:\n",
    "        grade.append('5') # grade = F\n",
    "\n",
    "# convert the grade array to a pandas dataframe\n",
    "grade = pd.DataFrame(data=grade, columns=[\"grade\"])\n",
    "# create a new dataframe called data by joining grade with df_dummies\n",
    "data = pd.concat([df_dummies, grade], axis=1)\n",
    "# remove the original numeric G3 column because it is not needed\n",
    "data.drop(columns=\"G3\", axis=1, inplace=True)\n",
    "grade['grade'].value_counts()"
   ]
  },
  {
   "cell_type": "markdown",
   "metadata": {},
   "source": [
    "===================================================================================================================\n",
    "\n",
    "# 5 - Declare Predictors and Target\n",
    "\n",
    "We identify our target feature and our predictor features for our predictive models."
   ]
  },
  {
   "cell_type": "code",
   "execution_count": 9,
   "metadata": {},
   "outputs": [],
   "source": [
    "# target attribute\n",
    "target_attribute_name = \"grade\"\n",
    "target = data[target_attribute_name]\n",
    "\n",
    "# predictor attributes\n",
    "predictors = data.drop(target_attribute_name, axis = 1).values"
   ]
  },
  {
   "cell_type": "markdown",
   "metadata": {},
   "source": [
    "===================================================================================================================\n",
    "\n",
    "# 6 - Split Dataset into Training and Test\n",
    "\n",
    "Before building a predictive model, we first want to split the entire dataset up into a training dataset and a test dataset.\n",
    "\n",
    "We will use the training dataset to build multiple predictive models. We then pick the best performing model and fit this to our test dataset in order to get the overall final accuracy of the model.\n",
    "\n",
    "The ratio of training to test data is usually varied from 60-80% training data and 20-40% test data. For a smaller dataset it is recommened to use 80% for training and 20% for testing. This is the ratio we will use.\n",
    "\n",
    "In order to maintain the same ratio of target categories in both datasets, it is neccessary to stratify the dataset.\n",
    "\n",
    "We also assign the random_state a constant value (seed). This is to ensure an identical split each time the program runs. This seed value is also assigned to random_state in some of our algorithms in section 8."
   ]
  },
  {
   "cell_type": "code",
   "execution_count": 10,
   "metadata": {},
   "outputs": [],
   "source": [
    "# assign a constant value to be used for random_state (otherwise a random number is chosen)\n",
    "seed = 9"
   ]
  },
  {
   "cell_type": "code",
   "execution_count": 11,
   "metadata": {},
   "outputs": [],
   "source": [
    "# prepare independent stratified data sets for training and testing of the models\n",
    "predictors_train, predictors_test, target_train, target_test = train_test_split(predictors, \n",
    "                                                                                target, \n",
    "                                                                                test_size=0.20, \n",
    "                                                                                shuffle=True, \n",
    "                                                                                stratify=target,\n",
    "                                                                                random_state=seed)"
   ]
  },
  {
   "cell_type": "markdown",
   "metadata": {},
   "source": [
    "===================================================================================================================\n",
    "\n",
    "# 7 - Feature Selection\n",
    "\n",
    "We will use the same two feature selection methods (estimators) that were used in lab 5. These include __SVR__ (Support Vector Regression) and __LR__ (Logistic Regression).\n",
    "\n",
    "Each estimator will be fitted to the training dataset in order to predict the target. This will happen in conjuction with __Recursive Feature Elimantion (RFE)__. RFE will run recursively, each time picking different subsets of features to train. The poorest performing features will be eliminated and the best subset of features will be returned at the end.\n",
    "\n",
    "__K-fold Cross Validation__ is also incorporated in the training process. We have chosen to use __5 folds__ here as the dataset is relatively small.\n",
    "\n",
    "This feature selection process is performed only once. The selected features in section 7 are then passed into each algorithm in section 8. There is no need to perform this step again for each algorithm as the resulting selected features will be the same each time."
   ]
  },
  {
   "cell_type": "markdown",
   "metadata": {},
   "source": [
    "### a) Using Support Vector Regression (SVR)"
   ]
  },
  {
   "cell_type": "code",
   "execution_count": 12,
   "metadata": {},
   "outputs": [
    {
     "data": {
      "text/plain": [
       "['failures',\n",
       " 'G1',\n",
       " 'G2',\n",
       " 'Mjob_health',\n",
       " 'Fjob_health',\n",
       " 'Fjob_other',\n",
       " 'Fjob_services',\n",
       " 'reason_other',\n",
       " 'schoolsup_yes',\n",
       " 'famsup_yes',\n",
       " 'higher_yes']"
      ]
     },
     "execution_count": 12,
     "metadata": {},
     "output_type": "execute_result"
    }
   ],
   "source": [
    "# create a base classifier used to evaluate a subset of attributes\n",
    "estimatorSVR = SVR(kernel=\"linear\")\n",
    "# create the RFE model that incorporates k-fold cross validation where k = 5\n",
    "selectorSVR = RFECV(estimatorSVR, cv=5)\n",
    "# use the model on the training data to select the best features for prediction\n",
    "selectorSVR = selectorSVR.fit(predictors_train, target_train)\n",
    "# transform the training data to only include the selected features\n",
    "predictors_train_SVRselected = selectorSVR.transform(predictors_train)\n",
    "# transform the test data to only include the selected features\n",
    "predictors_test_SVRselected = selectorSVR.transform(predictors_test)\n",
    "# print out the features that were selected\n",
    "get_feature_names(selectorSVR, data, target_attribute_name)"
   ]
  },
  {
   "cell_type": "markdown",
   "metadata": {},
   "source": [
    "SVR has chosen the above subset of 11 features as the best selection to train a predictive model. This is a lot less than the total number of features which is 41 (as explained in section 3)."
   ]
  },
  {
   "cell_type": "markdown",
   "metadata": {},
   "source": [
    "### b) Using Logistic Regression (LR)"
   ]
  },
  {
   "cell_type": "code",
   "execution_count": 13,
   "metadata": {},
   "outputs": [
    {
     "data": {
      "text/plain": [
       "['age',\n",
       " 'traveltime',\n",
       " 'studytime',\n",
       " 'failures',\n",
       " 'G1',\n",
       " 'G2',\n",
       " 'school_MS',\n",
       " 'reason_home',\n",
       " 'reason_other',\n",
       " 'higher_yes']"
      ]
     },
     "execution_count": 13,
     "metadata": {},
     "output_type": "execute_result"
    }
   ],
   "source": [
    "# create a base classifier used to evaluate a subset of attributes\n",
    "estimatorLR = LogisticRegression(solver='lbfgs', multi_class='auto', max_iter=6500)\n",
    "# create the RFE model that incorporates k-fold cross validation where k = 5\n",
    "selectorLR = RFECV(estimatorLR, cv=5)\n",
    "# use the model on the training data to select the best features for prediction\n",
    "selectorLR = selectorLR.fit(predictors_train, target_train)\n",
    "# transform the training data to only include the selected features\n",
    "predictors_train_LRselected = selectorLR.transform(predictors_train)\n",
    "# transform the test data to only include the selected features\n",
    "predictors_test_LRselected = selectorLR.transform(predictors_test)\n",
    "# print out the features that were selected\n",
    "get_feature_names(selectorLR, data, target_attribute_name)"
   ]
  },
  {
   "cell_type": "markdown",
   "metadata": {},
   "source": [
    "LR has chosen the above subset of 10 features as the best selection to train a predictive model.\n",
    "\n",
    "It is interesting to note the similarities between these features and the SVR selected features.\n",
    "\n",
    "- G1, G2, failures, reason_other and higher_yes are common to both.\n",
    "\n",
    "G1 and G2 will always be chosen as important features as these obviously have a high correlation with the target (G3)\n",
    "\n",
    "===================================================================================================================\n",
    "\n",
    "# 8 - Compare Classifiers\n",
    "\n",
    "We can use the cheat sheet from SK Learn, see below (note that this may not be visible if viewing in html, in which case the image can be found in the predictor_model folder), to help us pick a suitable algorithm for training a predictive model.\n",
    "\n",
    "Following the path that best describes our dataset, there are 4 algorithms suggested for us to try:\n",
    "\n",
    "- Linear SVC (section 8.1)\n",
    "- k-Nearest Neighbors (section 8.2)\n",
    "- SVC (section 8.3)\n",
    "- Ensemble Classifiers (Random Forest) (section 8.4)"
   ]
  },
  {
   "cell_type": "markdown",
   "metadata": {},
   "source": [
    "<img src=\"ml_map.png\">"
   ]
  },
  {
   "cell_type": "markdown",
   "metadata": {},
   "source": [
    "For each algorithm we will use __3 pipelines__ (one using features selected by SVR, one using features selected by LR and one using all features).\n",
    "\n",
    "The method we will use to train all our models is __Grid Search Cross Validation (GridSearchCV)__.\n",
    "\n",
    "One advantage of using GridSearchCV over cross_val_score, for example, is that it allows us to pass in a selection of hyper-parameters to the model.\n",
    "\n",
    "It will train a model using each available hyper-parameter and choose the best performing one.\n",
    "\n",
    "Examples of hyper-parameters used to tune our models include:\n",
    "- Penalty parameter of the error (__C__)\n",
    "- k-value for k-Nearest Neighbor (__n_neighbors__)\n",
    "- number of trees in Random Forest (__n_estimators__)\n",
    "- maximum depth of each Random Forest tree (__max_depth__)\n",
    "\n",
    "__Problem__: Because we are training 3 models (for each example of feature selection) for each of the 4 classifier algorithms (and using cross validation with 5 folds for each one), if we also pass in multiple different hyper-parameters for every single model we will end up with a large amount of computation required. The notebook would take a very long time to run all these models.\n",
    "\n",
    "__Solution__: So in order to reduce the work that this notebook will have to do, we decided to experiment with the hyper-parameters in seperate individual roughwork notebooks for each algorithm. We could then pick the best performing parameters and use them in this notebook (the best_params_ method for GridSearchCV allows us to do this).\n",
    "\n",
    "We ran each algorithm 5 times and picked the most frequent parameter values chosen. The results of our experimentation are as follows:\n",
    "\n",
    "- __C:__ Values Tested (0.01, 0.1, 1, 10, 100, 1000, 10000). __1000__ was chosen most frequently.\n",
    "\n",
    "- __n_neighbors:__ Values Tested (3, 5, 7, 9, 11). __7__ was chosen most frequently.\n",
    "\n",
    "- __n_estimators:__ Values Tested (100, 150, 200, 250, 300). __250__ was chosen most frequently.\n",
    "\n",
    "- __max_depth:__ Values Tested (2, 3, 4, 5). __4__ was chosen most frequently.\n",
    "\n",
    "These are the values that we will use for our 4 algorithms.\n",
    "\n",
    "-------------------------------------------------------------------------------------------------------------------\n",
    "\n",
    "## 8.1 Linear SVC\n",
    "\n",
    "#### a) Create classifer\n",
    "\n",
    "Support Vector Classifer (SVC) is type of Support Vector Machine (SVM) learning algorithm.\n",
    "\n",
    "Linear SVC is similar to SVC, but with the kernel parameter set to 'linear'.\n",
    "\n",
    "Linear SVC is generally not suited for a small dataset size. This is why we get the convergence warnings when we run it below. We tried increasing the maximum iterations as the warning suggest, but no matter how large a value we tried it did not solve the convergence warning."
   ]
  },
  {
   "cell_type": "code",
   "execution_count": 14,
   "metadata": {},
   "outputs": [],
   "source": [
    "# note how we set the random_state to the constant seed value\n",
    "classifier = LinearSVC(random_state=seed)"
   ]
  },
  {
   "cell_type": "markdown",
   "metadata": {},
   "source": [
    "#### b) Set up pipeline\n",
    "\n",
    "We pass in a scaler and the classifier. \n",
    "\n",
    "We could also incorporate feature selection in the pipeline itself, but we instead choose to only perform the feature selection once (in section 7) rather than repeating it for every pipeline. If we did incorporate it in the pipeline, the resulting features that would be selected would be identical everytime. Therefore this would be unneccessary and would require a lot of computation."
   ]
  },
  {
   "cell_type": "code",
   "execution_count": 15,
   "metadata": {},
   "outputs": [],
   "source": [
    "pipe = Pipeline([('scaler', MinMaxScaler()), ('classifier', classifier)])"
   ]
  },
  {
   "cell_type": "markdown",
   "metadata": {},
   "source": [
    "#### c) Train models\n",
    "\n",
    "We will have 3 models for each algorithm:\n",
    "1. Using features selected by SVR\n",
    "2. Using features selected by LR\n",
    "3. Using all the features\n",
    "\n",
    "Note how we pass in a C value of 1000 as a hyper-parameter here."
   ]
  },
  {
   "cell_type": "code",
   "execution_count": 16,
   "metadata": {
    "scrolled": true
   },
   "outputs": [
    {
     "name": "stdout",
     "output_type": "stream",
     "text": [
      "Fitting 5 folds for each of 1 candidates, totalling 5 fits\n"
     ]
    },
    {
     "name": "stderr",
     "output_type": "stream",
     "text": [
      "[Parallel(n_jobs=1)]: Using backend SequentialBackend with 1 concurrent workers.\n",
      "/Users/endamccarthy/opt/anaconda3/lib/python3.7/site-packages/sklearn/svm/base.py:929: ConvergenceWarning: Liblinear failed to converge, increase the number of iterations.\n",
      "  \"the number of iterations.\", ConvergenceWarning)\n",
      "/Users/endamccarthy/opt/anaconda3/lib/python3.7/site-packages/sklearn/svm/base.py:929: ConvergenceWarning: Liblinear failed to converge, increase the number of iterations.\n",
      "  \"the number of iterations.\", ConvergenceWarning)\n",
      "/Users/endamccarthy/opt/anaconda3/lib/python3.7/site-packages/sklearn/svm/base.py:929: ConvergenceWarning: Liblinear failed to converge, increase the number of iterations.\n",
      "  \"the number of iterations.\", ConvergenceWarning)\n",
      "/Users/endamccarthy/opt/anaconda3/lib/python3.7/site-packages/sklearn/svm/base.py:929: ConvergenceWarning: Liblinear failed to converge, increase the number of iterations.\n",
      "  \"the number of iterations.\", ConvergenceWarning)\n",
      "/Users/endamccarthy/opt/anaconda3/lib/python3.7/site-packages/sklearn/svm/base.py:929: ConvergenceWarning: Liblinear failed to converge, increase the number of iterations.\n",
      "  \"the number of iterations.\", ConvergenceWarning)\n",
      "[Parallel(n_jobs=1)]: Done   5 out of   5 | elapsed:    0.4s finished\n",
      "/Users/endamccarthy/opt/anaconda3/lib/python3.7/site-packages/sklearn/svm/base.py:929: ConvergenceWarning: Liblinear failed to converge, increase the number of iterations.\n",
      "  \"the number of iterations.\", ConvergenceWarning)\n",
      "[Parallel(n_jobs=1)]: Using backend SequentialBackend with 1 concurrent workers.\n",
      "/Users/endamccarthy/opt/anaconda3/lib/python3.7/site-packages/sklearn/svm/base.py:929: ConvergenceWarning: Liblinear failed to converge, increase the number of iterations.\n",
      "  \"the number of iterations.\", ConvergenceWarning)\n",
      "/Users/endamccarthy/opt/anaconda3/lib/python3.7/site-packages/sklearn/svm/base.py:929: ConvergenceWarning: Liblinear failed to converge, increase the number of iterations.\n",
      "  \"the number of iterations.\", ConvergenceWarning)\n"
     ]
    },
    {
     "name": "stdout",
     "output_type": "stream",
     "text": [
      "Fitting 5 folds for each of 1 candidates, totalling 5 fits\n"
     ]
    },
    {
     "name": "stderr",
     "output_type": "stream",
     "text": [
      "/Users/endamccarthy/opt/anaconda3/lib/python3.7/site-packages/sklearn/svm/base.py:929: ConvergenceWarning: Liblinear failed to converge, increase the number of iterations.\n",
      "  \"the number of iterations.\", ConvergenceWarning)\n",
      "/Users/endamccarthy/opt/anaconda3/lib/python3.7/site-packages/sklearn/svm/base.py:929: ConvergenceWarning: Liblinear failed to converge, increase the number of iterations.\n",
      "  \"the number of iterations.\", ConvergenceWarning)\n",
      "/Users/endamccarthy/opt/anaconda3/lib/python3.7/site-packages/sklearn/svm/base.py:929: ConvergenceWarning: Liblinear failed to converge, increase the number of iterations.\n",
      "  \"the number of iterations.\", ConvergenceWarning)\n",
      "[Parallel(n_jobs=1)]: Done   5 out of   5 | elapsed:    0.3s finished\n",
      "/Users/endamccarthy/opt/anaconda3/lib/python3.7/site-packages/sklearn/svm/base.py:929: ConvergenceWarning: Liblinear failed to converge, increase the number of iterations.\n",
      "  \"the number of iterations.\", ConvergenceWarning)\n",
      "[Parallel(n_jobs=1)]: Using backend SequentialBackend with 1 concurrent workers.\n",
      "/Users/endamccarthy/opt/anaconda3/lib/python3.7/site-packages/sklearn/svm/base.py:929: ConvergenceWarning: Liblinear failed to converge, increase the number of iterations.\n",
      "  \"the number of iterations.\", ConvergenceWarning)\n"
     ]
    },
    {
     "name": "stdout",
     "output_type": "stream",
     "text": [
      "Fitting 5 folds for each of 1 candidates, totalling 5 fits\n"
     ]
    },
    {
     "name": "stderr",
     "output_type": "stream",
     "text": [
      "/Users/endamccarthy/opt/anaconda3/lib/python3.7/site-packages/sklearn/svm/base.py:929: ConvergenceWarning: Liblinear failed to converge, increase the number of iterations.\n",
      "  \"the number of iterations.\", ConvergenceWarning)\n",
      "/Users/endamccarthy/opt/anaconda3/lib/python3.7/site-packages/sklearn/svm/base.py:929: ConvergenceWarning: Liblinear failed to converge, increase the number of iterations.\n",
      "  \"the number of iterations.\", ConvergenceWarning)\n",
      "/Users/endamccarthy/opt/anaconda3/lib/python3.7/site-packages/sklearn/svm/base.py:929: ConvergenceWarning: Liblinear failed to converge, increase the number of iterations.\n",
      "  \"the number of iterations.\", ConvergenceWarning)\n",
      "/Users/endamccarthy/opt/anaconda3/lib/python3.7/site-packages/sklearn/svm/base.py:929: ConvergenceWarning: Liblinear failed to converge, increase the number of iterations.\n",
      "  \"the number of iterations.\", ConvergenceWarning)\n",
      "[Parallel(n_jobs=1)]: Done   5 out of   5 | elapsed:    0.6s finished\n",
      "/Users/endamccarthy/opt/anaconda3/lib/python3.7/site-packages/sklearn/svm/base.py:929: ConvergenceWarning: Liblinear failed to converge, increase the number of iterations.\n",
      "  \"the number of iterations.\", ConvergenceWarning)\n"
     ]
    }
   ],
   "source": [
    "# create a list of differant parameters that will be passed into the classifier in each pipeline\n",
    "params = {'classifier__C': [1000]}\n",
    "\n",
    "# train final models using the pipeline and params (grid search with cross-validation is used)\n",
    "modelSVR = GridSearchCV(pipe, params, cv=5, verbose=1, iid=False).fit(predictors_train_SVRselected, target_train)\n",
    "modelLR = GridSearchCV(pipe, params, cv=5, verbose=1, iid=False).fit(predictors_train_LRselected, target_train)\n",
    "modelAll = GridSearchCV(pipe, params, cv=5, verbose=1, iid=False).fit(predictors_train, target_train)"
   ]
  },
  {
   "cell_type": "markdown",
   "metadata": {},
   "source": [
    "(Note: The warnings here relate to the fact that the model failed to converge, this is because Linear SVC does not work well with such a small dataset)\n",
    "\n",
    "#### d) Compare accuracies"
   ]
  },
  {
   "cell_type": "code",
   "execution_count": 17,
   "metadata": {
    "scrolled": true
   },
   "outputs": [
    {
     "data": {
      "text/html": [
       "<div>\n",
       "<style scoped>\n",
       "    .dataframe tbody tr th:only-of-type {\n",
       "        vertical-align: middle;\n",
       "    }\n",
       "\n",
       "    .dataframe tbody tr th {\n",
       "        vertical-align: top;\n",
       "    }\n",
       "\n",
       "    .dataframe thead th {\n",
       "        text-align: right;\n",
       "    }\n",
       "</style>\n",
       "<table border=\"1\" class=\"dataframe\">\n",
       "  <thead>\n",
       "    <tr style=\"text-align: right;\">\n",
       "      <th></th>\n",
       "      <th>Classifier</th>\n",
       "      <th>SVR Features</th>\n",
       "      <th>LR Features</th>\n",
       "      <th>All Features</th>\n",
       "    </tr>\n",
       "  </thead>\n",
       "  <tbody>\n",
       "    <tr>\n",
       "      <td>0</td>\n",
       "      <td>Linear SVC</td>\n",
       "      <td>0.37</td>\n",
       "      <td>0.42</td>\n",
       "      <td>0.35</td>\n",
       "    </tr>\n",
       "  </tbody>\n",
       "</table>\n",
       "</div>"
      ],
      "text/plain": [
       "   Classifier  SVR Features  LR Features  All Features\n",
       "0  Linear SVC          0.37         0.42          0.35"
      ]
     },
     "execution_count": 17,
     "metadata": {},
     "output_type": "execute_result"
    }
   ],
   "source": [
    "accuracy_SVR = modelSVR.best_score_\n",
    "accuracy_LR = modelLR.best_score_\n",
    "accuracy_All = modelAll.best_score_\n",
    "\n",
    "scores = {'Classifier':['Linear SVC'],\n",
    "          'SVR Features':[accuracy_SVR],\n",
    "          'LR Features':[accuracy_LR],\n",
    "          'All Features':[accuracy_All]}\n",
    "\n",
    "# create dataframe to store all the accuracies\n",
    "accuracies_df = pd.DataFrame(scores)\n",
    "accuracies_df.round(2)"
   ]
  },
  {
   "cell_type": "markdown",
   "metadata": {},
   "source": [
    "-------------------------------------------------------------------------------------------------------------------\n",
    "\n",
    "## 8.2 kNN\n",
    "\n",
    "#### a) Create classifer\n",
    "\n",
    "In kNN, k is the number of nearest neighbors. The number of neighbors is the core deciding factor. \n",
    "\n",
    "It is a type of supervised ML algorithm which can be used for both classification as well as regression. However, it is mainly used for classification predictive problems in industry. The following two properties are associated with kNN:\n",
    "\n",
    "- Lazy learning. kNN is a lazy learning algorithm because it does not have a specialized training phase and uses all the data for training.\n",
    "\n",
    "- Non-parametric learning. kNN is also a non-parametric learning algorithm because it doesn’t assume anything about the underlying data."
   ]
  },
  {
   "cell_type": "code",
   "execution_count": 18,
   "metadata": {},
   "outputs": [],
   "source": [
    "classifier = KNeighborsClassifier()"
   ]
  },
  {
   "cell_type": "markdown",
   "metadata": {},
   "source": [
    "#### b) Set up pipeline"
   ]
  },
  {
   "cell_type": "code",
   "execution_count": 19,
   "metadata": {},
   "outputs": [],
   "source": [
    "pipe = Pipeline([('scaler', MinMaxScaler()), ('classifier', classifier)])"
   ]
  },
  {
   "cell_type": "markdown",
   "metadata": {},
   "source": [
    "#### c) Train models\n",
    "\n",
    "Note how we pass in a n_neighbors value of 7 as a hyper-parameter here."
   ]
  },
  {
   "cell_type": "code",
   "execution_count": 20,
   "metadata": {
    "scrolled": true
   },
   "outputs": [
    {
     "name": "stdout",
     "output_type": "stream",
     "text": [
      "Fitting 5 folds for each of 1 candidates, totalling 5 fits\n",
      "Fitting 5 folds for each of 1 candidates, totalling 5 fits\n",
      "Fitting 5 folds for each of 1 candidates, totalling 5 fits\n"
     ]
    },
    {
     "name": "stderr",
     "output_type": "stream",
     "text": [
      "[Parallel(n_jobs=1)]: Using backend SequentialBackend with 1 concurrent workers.\n",
      "[Parallel(n_jobs=1)]: Done   5 out of   5 | elapsed:    0.0s finished\n",
      "[Parallel(n_jobs=1)]: Using backend SequentialBackend with 1 concurrent workers.\n",
      "[Parallel(n_jobs=1)]: Done   5 out of   5 | elapsed:    0.0s finished\n",
      "[Parallel(n_jobs=1)]: Using backend SequentialBackend with 1 concurrent workers.\n",
      "[Parallel(n_jobs=1)]: Done   5 out of   5 | elapsed:    0.0s finished\n"
     ]
    }
   ],
   "source": [
    "params = {'classifier__n_neighbors': [7]}\n",
    "\n",
    "# train final models using the pipeline and params (grid search with cross-validation is used)\n",
    "modelSVR = GridSearchCV(pipe, params, cv=5, verbose=1, iid=False).fit(predictors_train_SVRselected, target_train)\n",
    "modelLR = GridSearchCV(pipe, params, cv=5, verbose=1, iid=False).fit(predictors_train_LRselected, target_train)\n",
    "modelAll = GridSearchCV(pipe, params, cv=5, verbose=1, iid=False).fit(predictors_train, target_train)"
   ]
  },
  {
   "cell_type": "markdown",
   "metadata": {},
   "source": [
    "#### d) Compare accuracies"
   ]
  },
  {
   "cell_type": "code",
   "execution_count": 21,
   "metadata": {},
   "outputs": [
    {
     "data": {
      "text/html": [
       "<div>\n",
       "<style scoped>\n",
       "    .dataframe tbody tr th:only-of-type {\n",
       "        vertical-align: middle;\n",
       "    }\n",
       "\n",
       "    .dataframe tbody tr th {\n",
       "        vertical-align: top;\n",
       "    }\n",
       "\n",
       "    .dataframe thead th {\n",
       "        text-align: right;\n",
       "    }\n",
       "</style>\n",
       "<table border=\"1\" class=\"dataframe\">\n",
       "  <thead>\n",
       "    <tr style=\"text-align: right;\">\n",
       "      <th></th>\n",
       "      <th>Classifier</th>\n",
       "      <th>SVR Features</th>\n",
       "      <th>LR Features</th>\n",
       "      <th>All Features</th>\n",
       "    </tr>\n",
       "  </thead>\n",
       "  <tbody>\n",
       "    <tr>\n",
       "      <td>0</td>\n",
       "      <td>Linear SVC</td>\n",
       "      <td>0.37</td>\n",
       "      <td>0.42</td>\n",
       "      <td>0.35</td>\n",
       "    </tr>\n",
       "    <tr>\n",
       "      <td>1</td>\n",
       "      <td>kNN</td>\n",
       "      <td>0.57</td>\n",
       "      <td>0.51</td>\n",
       "      <td>0.30</td>\n",
       "    </tr>\n",
       "  </tbody>\n",
       "</table>\n",
       "</div>"
      ],
      "text/plain": [
       "   Classifier  SVR Features  LR Features  All Features\n",
       "0  Linear SVC          0.37         0.42          0.35\n",
       "1         kNN          0.57         0.51          0.30"
      ]
     },
     "execution_count": 21,
     "metadata": {},
     "output_type": "execute_result"
    }
   ],
   "source": [
    "accuracy_SVR = modelSVR.best_score_\n",
    "accuracy_LR = modelLR.best_score_\n",
    "accuracy_All = modelAll.best_score_\n",
    "\n",
    "# add accuracies to dataframe\n",
    "accuracies_df.loc[1] = ['kNN', accuracy_SVR, accuracy_LR, accuracy_All]\n",
    "accuracies_df.round(2)"
   ]
  },
  {
   "cell_type": "markdown",
   "metadata": {},
   "source": [
    "-------------------------------------------------------------------------------------------------------------------\n",
    "\n",
    "## 8.3 SVC\n",
    "\n",
    "#### a) Create classifer\n",
    "\n",
    "Support Vector Classifier (SVC), as the name suggests, is similar to Linear SVC. However, it is a more accurate algorithm than Linear SVC.\n",
    "\n",
    "SVC is better suited to a small dataset than Linear SVC. This is why we do not get any convergance warnings when we run this model."
   ]
  },
  {
   "cell_type": "code",
   "execution_count": 22,
   "metadata": {},
   "outputs": [],
   "source": [
    "# note how we set the random_state to the constant seed value\n",
    "classifier = svm.SVC(gamma='scale', random_state=seed)"
   ]
  },
  {
   "cell_type": "markdown",
   "metadata": {},
   "source": [
    "#### b) Set up pipeline"
   ]
  },
  {
   "cell_type": "code",
   "execution_count": 23,
   "metadata": {},
   "outputs": [],
   "source": [
    "pipe = Pipeline([('scaler', MinMaxScaler()), ('classifier', classifier)])"
   ]
  },
  {
   "cell_type": "markdown",
   "metadata": {},
   "source": [
    "#### c) Train models\n",
    "\n",
    "Note how we pass in a C value of 1000 as a hyper-parameter here."
   ]
  },
  {
   "cell_type": "code",
   "execution_count": 24,
   "metadata": {},
   "outputs": [
    {
     "name": "stdout",
     "output_type": "stream",
     "text": [
      "Fitting 5 folds for each of 1 candidates, totalling 5 fits\n"
     ]
    },
    {
     "name": "stderr",
     "output_type": "stream",
     "text": [
      "[Parallel(n_jobs=1)]: Using backend SequentialBackend with 1 concurrent workers.\n"
     ]
    },
    {
     "name": "stdout",
     "output_type": "stream",
     "text": [
      "Fitting 5 folds for each of 1 candidates, totalling 5 fits\n"
     ]
    },
    {
     "name": "stderr",
     "output_type": "stream",
     "text": [
      "[Parallel(n_jobs=1)]: Done   5 out of   5 | elapsed:    0.1s finished\n",
      "[Parallel(n_jobs=1)]: Using backend SequentialBackend with 1 concurrent workers.\n",
      "[Parallel(n_jobs=1)]: Done   5 out of   5 | elapsed:    0.1s finished\n",
      "[Parallel(n_jobs=1)]: Using backend SequentialBackend with 1 concurrent workers.\n"
     ]
    },
    {
     "name": "stdout",
     "output_type": "stream",
     "text": [
      "Fitting 5 folds for each of 1 candidates, totalling 5 fits\n"
     ]
    },
    {
     "name": "stderr",
     "output_type": "stream",
     "text": [
      "[Parallel(n_jobs=1)]: Done   5 out of   5 | elapsed:    0.2s finished\n"
     ]
    }
   ],
   "source": [
    "params = {'classifier__C': [1000]}\n",
    "\n",
    "# train final models using the pipeline and params (grid search with cross-validation is used)\n",
    "modelSVR = GridSearchCV(pipe, params, cv=5, verbose=1, iid=False).fit(predictors_train_SVRselected, target_train)\n",
    "modelLR = GridSearchCV(pipe, params, cv=5, verbose=1, iid=False).fit(predictors_train_LRselected, target_train)\n",
    "modelAll = GridSearchCV(pipe, params, cv=5, verbose=1, iid=False).fit(predictors_train, target_train)"
   ]
  },
  {
   "cell_type": "markdown",
   "metadata": {},
   "source": [
    "#### d) Compare accuracies"
   ]
  },
  {
   "cell_type": "code",
   "execution_count": 25,
   "metadata": {},
   "outputs": [
    {
     "data": {
      "text/html": [
       "<div>\n",
       "<style scoped>\n",
       "    .dataframe tbody tr th:only-of-type {\n",
       "        vertical-align: middle;\n",
       "    }\n",
       "\n",
       "    .dataframe tbody tr th {\n",
       "        vertical-align: top;\n",
       "    }\n",
       "\n",
       "    .dataframe thead th {\n",
       "        text-align: right;\n",
       "    }\n",
       "</style>\n",
       "<table border=\"1\" class=\"dataframe\">\n",
       "  <thead>\n",
       "    <tr style=\"text-align: right;\">\n",
       "      <th></th>\n",
       "      <th>Classifier</th>\n",
       "      <th>SVR Features</th>\n",
       "      <th>LR Features</th>\n",
       "      <th>All Features</th>\n",
       "    </tr>\n",
       "  </thead>\n",
       "  <tbody>\n",
       "    <tr>\n",
       "      <td>0</td>\n",
       "      <td>Linear SVC</td>\n",
       "      <td>0.37</td>\n",
       "      <td>0.42</td>\n",
       "      <td>0.35</td>\n",
       "    </tr>\n",
       "    <tr>\n",
       "      <td>1</td>\n",
       "      <td>kNN</td>\n",
       "      <td>0.57</td>\n",
       "      <td>0.51</td>\n",
       "      <td>0.30</td>\n",
       "    </tr>\n",
       "    <tr>\n",
       "      <td>2</td>\n",
       "      <td>SVC</td>\n",
       "      <td>0.67</td>\n",
       "      <td>0.62</td>\n",
       "      <td>0.46</td>\n",
       "    </tr>\n",
       "  </tbody>\n",
       "</table>\n",
       "</div>"
      ],
      "text/plain": [
       "   Classifier  SVR Features  LR Features  All Features\n",
       "0  Linear SVC          0.37         0.42          0.35\n",
       "1         kNN          0.57         0.51          0.30\n",
       "2         SVC          0.67         0.62          0.46"
      ]
     },
     "execution_count": 25,
     "metadata": {},
     "output_type": "execute_result"
    }
   ],
   "source": [
    "accuracy_SVR = modelSVR.best_score_\n",
    "accuracy_LR = modelLR.best_score_\n",
    "accuracy_All = modelAll.best_score_\n",
    "\n",
    "# add accuracies to dataframe\n",
    "accuracies_df.loc[2] = ['SVC', accuracy_SVR, accuracy_LR, accuracy_All]\n",
    "accuracies_df.round(2)"
   ]
  },
  {
   "cell_type": "markdown",
   "metadata": {},
   "source": [
    "-------------------------------------------------------------------------------------------------------------------\n",
    "\n",
    "## 8.4 Ensemble Classifiers (Random Forest)\n",
    "\n",
    "#### a) Create classifer\n",
    "\n",
    "There are two main types of Ensemble Classifiers:\n",
    "1. Random Forest\n",
    "2. Bagging\n",
    "\n",
    "We have chosen Random Forest for our dataset as we are more familier with algorithm from experimentation in our labs.\n",
    "\n",
    "Random Forest is a learning method that operates by constructing multiple decision trees. The final decision is made based on the majority of the trees and is chosen by the Random Forest."
   ]
  },
  {
   "cell_type": "code",
   "execution_count": 26,
   "metadata": {},
   "outputs": [],
   "source": [
    "# note how we set the random_state to the constant seed value\n",
    "classifier = RandomForestClassifier(random_state=seed)"
   ]
  },
  {
   "cell_type": "markdown",
   "metadata": {},
   "source": [
    "#### b) Set up pipeline"
   ]
  },
  {
   "cell_type": "code",
   "execution_count": 27,
   "metadata": {},
   "outputs": [],
   "source": [
    "pipe = Pipeline([('scaler', MinMaxScaler()), ('classifier', classifier)])"
   ]
  },
  {
   "cell_type": "markdown",
   "metadata": {},
   "source": [
    "#### c) Train models\n",
    "\n",
    "Note how we pass in an n_estimators value of 250 and a max_depth value of 4 as hyper-parameters here."
   ]
  },
  {
   "cell_type": "code",
   "execution_count": 28,
   "metadata": {},
   "outputs": [
    {
     "name": "stderr",
     "output_type": "stream",
     "text": [
      "[Parallel(n_jobs=1)]: Using backend SequentialBackend with 1 concurrent workers.\n"
     ]
    },
    {
     "name": "stdout",
     "output_type": "stream",
     "text": [
      "Fitting 5 folds for each of 1 candidates, totalling 5 fits\n"
     ]
    },
    {
     "name": "stderr",
     "output_type": "stream",
     "text": [
      "[Parallel(n_jobs=1)]: Done   5 out of   5 | elapsed:    1.8s finished\n"
     ]
    },
    {
     "name": "stdout",
     "output_type": "stream",
     "text": [
      "Fitting 5 folds for each of 1 candidates, totalling 5 fits\n"
     ]
    },
    {
     "name": "stderr",
     "output_type": "stream",
     "text": [
      "[Parallel(n_jobs=1)]: Using backend SequentialBackend with 1 concurrent workers.\n",
      "[Parallel(n_jobs=1)]: Done   5 out of   5 | elapsed:    1.9s finished\n"
     ]
    },
    {
     "name": "stdout",
     "output_type": "stream",
     "text": [
      "Fitting 5 folds for each of 1 candidates, totalling 5 fits\n"
     ]
    },
    {
     "name": "stderr",
     "output_type": "stream",
     "text": [
      "[Parallel(n_jobs=1)]: Using backend SequentialBackend with 1 concurrent workers.\n",
      "[Parallel(n_jobs=1)]: Done   5 out of   5 | elapsed:    1.8s finished\n"
     ]
    }
   ],
   "source": [
    "params = {'classifier__n_estimators': [250],\n",
    "          'classifier__max_depth': [4]}\n",
    "\n",
    "# train final models using the pipeline and params (grid search with cross-validation is used)\n",
    "modelSVR = GridSearchCV(pipe, params, cv=5, verbose=1, iid=False).fit(predictors_train_SVRselected, target_train)\n",
    "modelLR = GridSearchCV(pipe, params, cv=5, verbose=1, iid=False).fit(predictors_train_LRselected, target_train)\n",
    "modelAll = GridSearchCV(pipe, params, cv=5, verbose=1, iid=False).fit(predictors_train, target_train)"
   ]
  },
  {
   "cell_type": "markdown",
   "metadata": {},
   "source": [
    "#### d) Compare accuracies"
   ]
  },
  {
   "cell_type": "code",
   "execution_count": 29,
   "metadata": {
    "scrolled": false
   },
   "outputs": [
    {
     "data": {
      "text/html": [
       "<div>\n",
       "<style scoped>\n",
       "    .dataframe tbody tr th:only-of-type {\n",
       "        vertical-align: middle;\n",
       "    }\n",
       "\n",
       "    .dataframe tbody tr th {\n",
       "        vertical-align: top;\n",
       "    }\n",
       "\n",
       "    .dataframe thead th {\n",
       "        text-align: right;\n",
       "    }\n",
       "</style>\n",
       "<table border=\"1\" class=\"dataframe\">\n",
       "  <thead>\n",
       "    <tr style=\"text-align: right;\">\n",
       "      <th></th>\n",
       "      <th>Classifier</th>\n",
       "      <th>SVR Features</th>\n",
       "      <th>LR Features</th>\n",
       "      <th>All Features</th>\n",
       "    </tr>\n",
       "  </thead>\n",
       "  <tbody>\n",
       "    <tr>\n",
       "      <td>0</td>\n",
       "      <td>Linear SVC</td>\n",
       "      <td>0.37</td>\n",
       "      <td>0.42</td>\n",
       "      <td>0.35</td>\n",
       "    </tr>\n",
       "    <tr>\n",
       "      <td>1</td>\n",
       "      <td>kNN</td>\n",
       "      <td>0.57</td>\n",
       "      <td>0.51</td>\n",
       "      <td>0.30</td>\n",
       "    </tr>\n",
       "    <tr>\n",
       "      <td>2</td>\n",
       "      <td>SVC</td>\n",
       "      <td>0.67</td>\n",
       "      <td>0.62</td>\n",
       "      <td>0.46</td>\n",
       "    </tr>\n",
       "    <tr>\n",
       "      <td>3</td>\n",
       "      <td>Ensemble (RF)</td>\n",
       "      <td>0.71</td>\n",
       "      <td>0.72</td>\n",
       "      <td>0.65</td>\n",
       "    </tr>\n",
       "  </tbody>\n",
       "</table>\n",
       "</div>"
      ],
      "text/plain": [
       "      Classifier  SVR Features  LR Features  All Features\n",
       "0     Linear SVC          0.37         0.42          0.35\n",
       "1            kNN          0.57         0.51          0.30\n",
       "2            SVC          0.67         0.62          0.46\n",
       "3  Ensemble (RF)          0.71         0.72          0.65"
      ]
     },
     "execution_count": 29,
     "metadata": {},
     "output_type": "execute_result"
    }
   ],
   "source": [
    "accuracy_SVR = modelSVR.best_score_\n",
    "accuracy_LR = modelLR.best_score_\n",
    "accuracy_All = modelAll.best_score_\n",
    "\n",
    "# add accuracies to dataframe\n",
    "accuracies_df.loc[3] = ['Ensemble (RF)', accuracy_SVR, accuracy_LR, accuracy_All]\n",
    "accuracies_df.round(2)"
   ]
  },
  {
   "cell_type": "markdown",
   "metadata": {},
   "source": [
    "__Observations__\n",
    "\n",
    "- There is relatively little difference between using the features selected by SVR or by LR.\n",
    "- Using all the features has consistently poor results compared with selected features.\n",
    "- The results reflect the SK Learn Algorithm Cheat-Sheet.\n",
    "- A __Random Forest__ classifier with __features selected by Logistic Regression__ has the best performance.\n",
    "\n",
    "===================================================================================================================\n",
    "\n",
    "# 9 - Final Predictive Model\n",
    "\n",
    "The above results prove that a __Random Forest classifier__ with __features selected by Logistic Regression__ is the best performing model.\n",
    "\n",
    "We can now get a final accuracy using this model on the __test data__.\n",
    "\n",
    "We will setup the model again just to ensure we have the correct variables selected."
   ]
  },
  {
   "cell_type": "code",
   "execution_count": 30,
   "metadata": {},
   "outputs": [
    {
     "name": "stdout",
     "output_type": "stream",
     "text": [
      "Fitting 5 folds for each of 1 candidates, totalling 5 fits\n"
     ]
    },
    {
     "name": "stderr",
     "output_type": "stream",
     "text": [
      "[Parallel(n_jobs=1)]: Using backend SequentialBackend with 1 concurrent workers.\n",
      "[Parallel(n_jobs=1)]: Done   5 out of   5 | elapsed:    1.8s finished\n"
     ]
    }
   ],
   "source": [
    "classifier = RandomForestClassifier(random_state=seed)\n",
    "pipe = Pipeline([('scaler', MinMaxScaler()), ('classifier', classifier)])\n",
    "params = {'classifier__n_estimators': [250],\n",
    "          'classifier__max_depth': [4]}\n",
    "modelFinal = GridSearchCV(pipe, params, cv=5, verbose=1, iid=False).fit(predictors_train_LRselected, target_train)"
   ]
  },
  {
   "cell_type": "markdown",
   "metadata": {},
   "source": [
    "Now we can get the final accuracy using the test data:"
   ]
  },
  {
   "cell_type": "code",
   "execution_count": 31,
   "metadata": {},
   "outputs": [
    {
     "name": "stdout",
     "output_type": "stream",
     "text": [
      "The accuracy of our final predictive model is: 72%\n"
     ]
    }
   ],
   "source": [
    "accuracy_Final = modelFinal.score(predictors_test_LRselected, target_test)\n",
    "print(\"The accuracy of our final predictive model is: %2d%%\" %(accuracy_Final.round(2)*100))"
   ]
  },
  {
   "cell_type": "code",
   "execution_count": 32,
   "metadata": {},
   "outputs": [
    {
     "data": {
      "text/plain": [
       "3    35\n",
       "4    31\n",
       "2    28\n",
       "1    17\n",
       "0     9\n",
       "5     6\n",
       "Name: grade, dtype: int64"
      ]
     },
     "execution_count": 32,
     "metadata": {},
     "output_type": "execute_result"
    }
   ],
   "source": [
    "target_test.value_counts()"
   ]
  },
  {
   "cell_type": "markdown",
   "metadata": {},
   "source": [
    "===================================================================================================================\n",
    "\n",
    "# 10 - Evaluation of Final Model\n",
    "\n",
    "### Confusion Matrix\n",
    "\n",
    "This confusion matrix is based on the test dataset (20% of overall data, 126 rows)."
   ]
  },
  {
   "cell_type": "code",
   "execution_count": 33,
   "metadata": {},
   "outputs": [
    {
     "data": {
      "image/png": "[encoded data removed]",
      "text/plain": [
       "<Figure size 360x288 with 1 Axes>"
      ]
     },
     "metadata": {
      "needs_background": "light"
     },
     "output_type": "display_data"
    }
   ],
   "source": [
    "plot_confusion_matrix_heatmap(target_test, modelFinal.best_estimator_.predict(predictors_test_LRselected))"
   ]
  },
  {
   "cell_type": "markdown",
   "metadata": {},
   "source": [
    "We can see from the confusion matrix that the results are relatively good by the high values on the diagonal.\n",
    "- It is interesting to note that the model did not make any predictions for grade 'F'. It instead wrongly predicted the 6 true 'F' grades as 'E' grades.\n",
    "- It predicted more 'A' grades wrong (5 as 'B') than right (4 as 'A').\n",
    "- All 17 true 'B' grades were predicted correctly.\n",
    "- The majority of 'C' grades were predicted correctly (20 out of 28).\n",
    "- The majority of 'D' grades were predicted correctly (21 out of 35).\n",
    "- The majority of 'E' grades were predicted correctly (29 out of 31)."
   ]
  },
  {
   "cell_type": "markdown",
   "metadata": {},
   "source": [
    "### Precision-Recall"
   ]
  },
  {
   "cell_type": "code",
   "execution_count": 34,
   "metadata": {
    "scrolled": true
   },
   "outputs": [
    {
     "name": "stdout",
     "output_type": "stream",
     "text": [
      "              precision    recall  f1-score   support\n",
      "\n",
      "           0       1.00      0.44      0.62         9\n",
      "           1       0.68      1.00      0.81        17\n",
      "           2       0.77      0.71      0.74        28\n",
      "           3       0.75      0.60      0.67        35\n",
      "           4       0.67      0.94      0.78        31\n",
      "           5       0.00      0.00      0.00         6\n",
      "\n",
      "    accuracy                           0.72       126\n",
      "   macro avg       0.65      0.62      0.60       126\n",
      "weighted avg       0.71      0.72      0.70       126\n",
      "\n"
     ]
    },
    {
     "name": "stderr",
     "output_type": "stream",
     "text": [
      "/Users/endamccarthy/opt/anaconda3/lib/python3.7/site-packages/sklearn/metrics/classification.py:1437: UndefinedMetricWarning: Precision and F-score are ill-defined and being set to 0.0 in labels with no predicted samples.\n",
      "  'precision', 'predicted', average, warn_for)\n"
     ]
    }
   ],
   "source": [
    "print(classification_report(target_test, modelFinal.best_estimator_.predict(predictors_test_LRselected)))"
   ]
  },
  {
   "cell_type": "markdown",
   "metadata": {},
   "source": [
    "(Note: The warning here is present because the was no prediction for an 'F' grade.)\n",
    "\n",
    "We can see how the Precision-Recall report backs up the Confusion Matrix:\n",
    "\n",
    "The __precision__ of an 'A' grade (0) prediction is 100%. This means that every time the model predicted a grade of 'A', it was correct. This can be seen in the Confusion Matrix where there are 4 predicted 'A' grades which are all correct.\n",
    "\n",
    "The __precision__ of a 'B' grade (1) prediction is 68%. This means that every time the model predicted a grade of 'B', it was correct only 68% of the time. This is supported by the Confusion Matrix where only 17 out of 25 (68%) predicted 'B' grades were correct.\n",
    "\n",
    "The __recall__ of an 'A' grade (0) prediction is 44%. This means that out of all the true 'A' grades, only 44% were predicted correctly. This is supported by the Confusion Matrix where only 4 out of 9 (44%) true 'A' grades were predicted correctly.\n",
    "\n",
    "The __recall__ of a 'B' grade (1) prediction is 100%. This means that out of all the true 'B' grades, 100% were predicted correctly. This is supported by the Confusion Matrix where 17 out of 17 (100%) true 'B' grades were predicted correctly.\n",
    "\n",
    "The __overall accuracy__ is 72% which we already highlighted in section 9.\n",
    "\n",
    "The __f1-score__ is given by the harmonic mean of precision and recall, it combines precision and recall of a class in one metric:\n",
    "    \n",
    "    (2 × precision × recall / (precision + recall)) \n",
    "    \n",
    "===================================================================================================================\n",
    "\n",
    "# 11 - Conclusion\n",
    "\n",
    "\n",
    "\n",
    "Having followed all the steps from the labs 2-5, we have successfully practiced EDA, data preparation, train/test splits, feature selection, comparison of predictive models and evaluation of the best performing model throughout this notebook and the EDA notebook. We will demonstrate lab 6 (clustering) in another seperate notebook.\n",
    "\n",
    "These are some of the observations and learning outcomes we made along the way:\n",
    "\n",
    "- It was beneficial to reduce the target from 20 values (1-20) into 6 (A-F) categories. It is obviously easier to predict a value from 6 options rather than from 20 options. Our accuracy (72%) is still not quite high enough for this model to be considered a success. It would be interesting to reduce the categories again to 5 or 4 options. This would certainly improve the overall accuracy.\n",
    "\n",
    "- Even after reducing the target into 6 categories there was still a certain amount of imbalance present (much more 'C', 'D' and 'E' grades than 'A' and 'F') which may have affected our model results. An interesting experiment to try when imbalance is present is to perform resampling on the dataset. However, this can have a negative impact if not fully understood and implemented correctly. \n",
    "\n",
    "- We used a train/test split of 20% which is generally recommended. If we had chosen a larger test split (say 30%), we may have ended up with greater variance in our predictions, but lower bias. There is a trade off between these, so 20% is generally recommended as a good balance.\n",
    "\n",
    "- It is interesting to note how much longer it took to perform feature selection using Logistic Regression than SVR (roughly 10 times as long). We researched this but could not find any conclusive explanations.\n",
    "\n",
    "Finally, we conclude that for the dataset used for this project, the Logistic Regression resulted as the best feature selector and Random Forest as the best classifier in our prediction model for G3.\n",
    "\n",
    "-------------------------------------------------------------------------------------------------------------------\n",
    "__Links__\n",
    "- [SK Learn Cheat-Sheet](https://scikit-learn.org/stable/tutorial/machine_learning_map/index.html)\n",
    "- [Linear SVC](https://scikit-learn.org/stable/modules/generated/sklearn.svm.LinearSVC.html#sklearn.svm.LinearSVC)\n",
    "- [k-Nearest Neighbors](https://scikit-learn.org/stable/modules/generated/sklearn.neighbors.KNeighborsClassifier.html#sklearn.neighbors.KNeighborsClassifier)\n",
    "- [SVC](https://scikit-learn.org/stable/modules/generated/sklearn.svm.SVC.html#sklearn.svm.SVC)\n",
    "- [Ensemble](https://scikit-learn.org/stable/modules/generated/sklearn.ensemble.RandomForestClassifier.html)\n",
    "- [GridSearchCV](https://scikit-learn.org/stable/modules/generated/sklearn.model_selection.GridSearchCV.html)\n",
    "\n",
    "==================================================================================================================="
   ]
  }
 ],
 "metadata": {
  "kernelspec": {
   "display_name": "Python 3",
   "language": "python",
   "name": "python3"
  },
  "language_info": {
   "codemirror_mode": {
    "name": "ipython",
    "version": 3
   },
   "file_extension": ".py",
   "mimetype": "text/x-python",
   "name": "python",
   "nbconvert_exporter": "python",
   "pygments_lexer": "ipython3",
   "version": "3.7.4"
  }
 },
 "nbformat": 4,
 "nbformat_minor": 2
}
