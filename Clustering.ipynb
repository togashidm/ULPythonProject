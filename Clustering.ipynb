{
 "cells": [
  {
   "cell_type": "markdown",
   "metadata": {},
   "source": [
    "# CS4055 Project Group 7\n",
    "\n",
    "# Notebook 3 - Clustering\n",
    "\n",
    "### Clustering Workflow"
   ]
  },
  {
   "cell_type": "markdown",
   "metadata": {},
   "source": [
    "<img src=\"ClusteringWorkflow.png\">"
   ]
  },
  {
   "cell_type": "markdown",
   "metadata": {},
   "source": [
    "### K-Means Clustering\n",
    "\n",
    "K-means Overview:\n",
    "\n",
    "- The process begins with k centroids initialised at random.\n",
    "- These centroids are used to assign points to its nearest cluster.\n",
    "- The mean of all points within the cluster is then used to update the position of the centroids.\n",
    "- The above steps are repeated until the values of the centroids stabilise.\n",
    "\n",
    "===================================================================================================================\n",
    "\n",
    "## 1 - Imports"
   ]
  },
  {
   "cell_type": "code",
   "execution_count": 1,
   "metadata": {},
   "outputs": [],
   "source": [
    "import pandas as pd\n",
    "import numpy as np\n",
    "import matplotlib.pyplot as plt\n",
    "\n",
    "from sklearn import manifold\n",
    "from sklearn import cluster\n",
    "from sklearn import preprocessing\n",
    "from sklearn.metrics import silhouette_score"
   ]
  },
  {
   "cell_type": "code",
   "execution_count": 2,
   "metadata": {},
   "outputs": [],
   "source": [
    "df = pd.read_csv('./studentPor.csv')"
   ]
  },
  {
   "cell_type": "markdown",
   "metadata": {},
   "source": [
    "===================================================================================================================\n",
    "\n",
    "## 2 - Remove Outliers"
   ]
  },
  {
   "cell_type": "code",
   "execution_count": 3,
   "metadata": {},
   "outputs": [],
   "source": [
    "Q1 = df['absences'].quantile(0.25)\n",
    "Q3 = df['absences'].quantile(0.75)\n",
    "IQR = Q3 - Q1"
   ]
  },
  {
   "cell_type": "code",
   "execution_count": 4,
   "metadata": {},
   "outputs": [],
   "source": [
    "df['iqr']=(df['absences'] < (Q1 - 1.5 * IQR)) |(df['absences'] > (Q3 + 1.5 * IQR))\n",
    "\n",
    "# a new df with outliers removed\n",
    "df_data = df[df.iqr != True]\n",
    "df_data = df_data.drop('iqr', axis=1)"
   ]
  },
  {
   "cell_type": "markdown",
   "metadata": {},
   "source": [
    "===================================================================================================================\n",
    "\n",
    "## 3 - Drop Target Attribute"
   ]
  },
  {
   "cell_type": "code",
   "execution_count": 5,
   "metadata": {},
   "outputs": [],
   "source": [
    "df_data = df_data.drop('G3', axis=1)"
   ]
  },
  {
   "cell_type": "markdown",
   "metadata": {},
   "source": [
    "===================================================================================================================\n",
    "\n",
    "## 4 - Convert Categorical Attributes to Numeric"
   ]
  },
  {
   "cell_type": "code",
   "execution_count": 6,
   "metadata": {},
   "outputs": [],
   "source": [
    "df_dummies = pd.get_dummies(df_data, drop_first=True, columns=['school',\n",
    "                                                               'sex',\n",
    "                                                               'address',\n",
    "                                                               'famsize',\n",
    "                                                               'Pstatus',\n",
    "                                                               'Mjob',\n",
    "                                                               'Fjob',\n",
    "                                                               'reason',\n",
    "                                                               'guardian',\n",
    "                                                               'schoolsup',\n",
    "                                                               'famsup',\n",
    "                                                               'paid',\n",
    "                                                               'activities',\n",
    "                                                               'nursery',\n",
    "                                                               'higher',\n",
    "                                                               'internet',\n",
    "                                                               'romantic'])"
   ]
  },
  {
   "cell_type": "markdown",
   "metadata": {},
   "source": [
    "===================================================================================================================\n",
    "\n",
    "## 5 - Convert Dataset to array"
   ]
  },
  {
   "cell_type": "code",
   "execution_count": 7,
   "metadata": {},
   "outputs": [],
   "source": [
    "df_array = np.array(df_dummies, dtype=float)"
   ]
  },
  {
   "cell_type": "markdown",
   "metadata": {},
   "source": [
    "===================================================================================================================\n",
    "\n",
    "## 6 - Scale Dataset"
   ]
  },
  {
   "cell_type": "code",
   "execution_count": 8,
   "metadata": {},
   "outputs": [],
   "source": [
    "min_max_scaler = preprocessing.MinMaxScaler()\n",
    "df_scaled = min_max_scaler.fit_transform(df_array)"
   ]
  },
  {
   "cell_type": "markdown",
   "metadata": {},
   "source": [
    "===================================================================================================================\n",
    "\n",
    "## 7 - Find best value of K\n",
    "\n",
    "To find our best value of K, we will use two methods: The Elbow Method, and The Silhouette Method.\n",
    "\n",
    "The Elbow Method is more of a decision rule, while the Silhouette is a metric used for validation while clustering. Thus, it can be used in combination with the Elbow Method.\n",
    "\n",
    "The Elbow Method and the Silhouette Method are not alternatives to each other for finding the optimal K. Rather, they are tools to be used together for a more confident decision.\n",
    "\n",
    "### Elbow Method\n",
    "\n",
    "For each k value, we will initialise k-means and use the inertia attribute to identify the within-cluster sum of squared distances (WSS) of samples to the nearest cluster centre.\n",
    "\n",
    "As k increases, WSS tends to zero. Imagine we set k to its maximum value n (where n is number of samples) each sample will form its own cluster meaning WSS equals zero.\n",
    "\n",
    "It is a bit naive in its approach."
   ]
  },
  {
   "cell_type": "code",
   "execution_count": null,
   "metadata": {},
   "outputs": [],
   "source": [
    "Sum_of_squared_distances_elbow = []\n",
    "K = range(1,10)\n",
    "for k in K:\n",
    "    km = cluster.KMeans(n_clusters=k, random_state=9)\n",
    "    km = km.fit(df_scaled)\n",
    "    Sum_of_squared_distances_elbow.append(km.inertia_)"
   ]
  },
  {
   "cell_type": "markdown",
   "metadata": {},
   "source": [
    "If the plot looks like an arm, then the elbow point on the arm is optimal k."
   ]
  },
  {
   "cell_type": "code",
   "execution_count": 10,
   "metadata": {},
   "outputs": [
    {
     "data": {
      "image/png": "[encoded data removed]",
      "text/plain": [
       "<Figure size 432x288 with 1 Axes>"
      ]
     },
     "metadata": {
      "needs_background": "light"
     },
     "output_type": "display_data"
    }
   ],
   "source": [
    "plt.plot(K, Sum_of_squared_distances_elbow, 'bx-')\n",
    "plt.xlabel('k')\n",
    "plt.ylabel('Sum of squared distances (WSS)')\n",
    "plt.title('Elbow Method For Optimal k')\n",
    "plt.show()"
   ]
  },
  {
   "cell_type": "markdown",
   "metadata": {},
   "source": [
    "__Conclusion__\n",
    "\n",
    "There is no obvious elbow here. This may be because of the amount of features we have in our dataset.\n",
    "\n",
    "We experimented with only using the features selected by Logistic Regression (which reduced the number of features from 32 down to 10) in our Predictive Models notebook. However, the results did not improve and did not give us a clear elbow either.\n",
    "\n",
    "We can look at the Siloutte method for further information."
   ]
  },
  {
   "cell_type": "markdown",
   "metadata": {},
   "source": [
    "### Silhouette Method"
   ]
  },
  {
   "cell_type": "markdown",
   "metadata": {},
   "source": [
    "The silhouette value measures how similar a point is to its own cluster (cohesion) compared to other clusters (separation).\n",
    "\n",
    "The range of the Silhouette value is between +1 and -1. A high value is desirable and indicates that the point is placed in the correct cluster. If many points have a negative Silhouette value, it may indicate that we have created too many or too few clusters."
   ]
  },
  {
   "cell_type": "code",
   "execution_count": 11,
   "metadata": {},
   "outputs": [],
   "source": [
    "Sum_of_squared_distances_sil = []\n",
    "K = range(2,10)\n",
    "for k in K:\n",
    "    km = cluster.KMeans(n_clusters=k, max_iter=9000).fit(df_scaled)\n",
    "    labels = km.labels_\n",
    "    Sum_of_squared_distances_sil.append(silhouette_score(df_scaled, labels, metric = 'euclidean'))"
   ]
  },
  {
   "cell_type": "code",
   "execution_count": 12,
   "metadata": {
    "scrolled": true
   },
   "outputs": [
    {
     "data": {
      "image/png": "[encoded data removed]",
      "text/plain": [
       "<Figure size 432x288 with 1 Axes>"
      ]
     },
     "metadata": {
      "needs_background": "light"
     },
     "output_type": "display_data"
    }
   ],
   "source": [
    "plt.plot(K, Sum_of_squared_distances_sil, 'bx-')\n",
    "plt.xlabel('k')\n",
    "plt.ylabel('Silhouette Score')\n",
    "plt.title('Silhouette Method For Optimal k')\n",
    "plt.show()"
   ]
  },
  {
   "cell_type": "markdown",
   "metadata": {},
   "source": [
    "__Conclusion__\n",
    "\n",
    "This would suggest that the optimal value of __k is 2__. The silhouette method does not allow us to start from 1 which might have given us a clearer picture.\n",
    "\n",
    "We will now try a __k-value of 2__ in our clustering and evaluate the results.\n",
    "\n",
    "===================================================================================================================\n",
    "\n",
    "## 8 - Apply K-Means Clustering"
   ]
  },
  {
   "cell_type": "code",
   "execution_count": 13,
   "metadata": {},
   "outputs": [],
   "source": [
    "k = 2"
   ]
  },
  {
   "cell_type": "code",
   "execution_count": 14,
   "metadata": {},
   "outputs": [],
   "source": [
    "clustered_data_sklearn = cluster.KMeans(n_clusters=k, n_init=10, max_iter=300).fit(df_scaled)"
   ]
  },
  {
   "cell_type": "markdown",
   "metadata": {},
   "source": [
    "===================================================================================================================\n",
    "\n",
    "## 9 - 2D Visualisation\n",
    "\n",
    "### Scatterplot Function (to be used below for visualising a clustering)"
   ]
  },
  {
   "cell_type": "code",
   "execution_count": 15,
   "metadata": {},
   "outputs": [],
   "source": [
    "colors = np.array(['orange', 'blue', 'lime', 'red', 'khaki', 'pink', 'green', 'purple'])\n",
    "\n",
    "# points - a 2D array of (x,y) coordinates of data points\n",
    "# labels - an array of numeric labels in the interval [0..k-1], one for each point\n",
    "# centers - a 2D array of (x, y) coordinates of cluster centers\n",
    "# title - title of the plot\n",
    "\n",
    "def clustering_scatterplot(points, labels, centers, title):\n",
    "    # plot the examples, i.e. the data points\n",
    "    \n",
    "    n_clusters = np.unique(labels).size\n",
    "    for i in range(n_clusters):\n",
    "        h = plt.scatter(points[labels==i,0],\n",
    "                        points[labels==i,1], \n",
    "                        c=colors[i%colors.size],\n",
    "                        label = 'cluster '+str(i))\n",
    "\n",
    "    # plot the centers of the clusters\n",
    "    if centers is not None:\n",
    "        plt.scatter(centers[:,0], centers[:,1], c='r', marker='*', s=500)\n",
    "\n",
    "    _ = plt.title(title)\n",
    "    _ = plt.legend()\n",
    "    _ = plt.xlabel('x')\n",
    "    _ = plt.ylabel('y')"
   ]
  },
  {
   "cell_type": "code",
   "execution_count": 16,
   "metadata": {},
   "outputs": [],
   "source": [
    "df_scaled_and_centers = np.r_[df_scaled,clustered_data_sklearn.cluster_centers_]"
   ]
  },
  {
   "cell_type": "markdown",
   "metadata": {},
   "source": [
    "### Apply multi-dimensional scaling (MDS) to project "
   ]
  },
  {
   "cell_type": "code",
   "execution_count": 17,
   "metadata": {},
   "outputs": [],
   "source": [
    "XYcoordinates = manifold.MDS(n_components=2).fit_transform(df_scaled_and_centers)"
   ]
  },
  {
   "cell_type": "code",
   "execution_count": 18,
   "metadata": {
    "scrolled": true
   },
   "outputs": [
    {
     "data": {
      "image/png": "[encoded data removed]",
      "text/plain": [
       "<Figure size 432x288 with 1 Axes>"
      ]
     },
     "metadata": {
      "needs_background": "light"
     },
     "output_type": "display_data"
    }
   ],
   "source": [
    "clustering_scatterplot(points=XYcoordinates[:-k,:], \n",
    "                       labels=clustered_data_sklearn.labels_, \n",
    "                       centers=XYcoordinates[-k:,:], \n",
    "                       title='MDS')"
   ]
  },
  {
   "cell_type": "markdown",
   "metadata": {},
   "source": [
    "### Apply t-SNE to project "
   ]
  },
  {
   "cell_type": "code",
   "execution_count": 19,
   "metadata": {},
   "outputs": [],
   "source": [
    "XYcoordinates = manifold.TSNE(n_components=2).fit_transform(df_scaled_and_centers)"
   ]
  },
  {
   "cell_type": "code",
   "execution_count": 20,
   "metadata": {
    "scrolled": true
   },
   "outputs": [
    {
     "data": {
      "image/png": "[encoded data removed]",
      "text/plain": [
       "<Figure size 432x288 with 1 Axes>"
      ]
     },
     "metadata": {
      "needs_background": "light"
     },
     "output_type": "display_data"
    }
   ],
   "source": [
    "clustering_scatterplot(points=XYcoordinates[:-k,:], \n",
    "                       labels=clustered_data_sklearn.labels_,\n",
    "                       centers=XYcoordinates[-k:,:], \n",
    "                       title='TSNE')"
   ]
  },
  {
   "cell_type": "markdown",
   "metadata": {},
   "source": [
    "===================================================================================================================\n",
    "\n",
    "## 10 - Cluster Analysis\n",
    "\n",
    "__Add the cluster labels as an extra column in the original dataframe__"
   ]
  },
  {
   "cell_type": "code",
   "execution_count": 21,
   "metadata": {},
   "outputs": [],
   "source": [
    "df_dummies['cluster'] = pd.Series(clustered_data_sklearn.labels_, index=df_dummies.index)"
   ]
  },
  {
   "cell_type": "markdown",
   "metadata": {},
   "source": [
    "__Compute the mean value of all features for both clusters__\n",
    "\n",
    "Note that we have artificially increased the number of features from 32 to 41 in step 4 (see explanation in step 4 in Predictive Models notebook)"
   ]
  },
  {
   "cell_type": "code",
   "execution_count": 22,
   "metadata": {},
   "outputs": [
    {
     "data": {
      "text/html": [
       "<div>\n",
       "<style scoped>\n",
       "    .dataframe tbody tr th:only-of-type {\n",
       "        vertical-align: middle;\n",
       "    }\n",
       "\n",
       "    .dataframe tbody tr th {\n",
       "        vertical-align: top;\n",
       "    }\n",
       "\n",
       "    .dataframe thead th {\n",
       "        text-align: right;\n",
       "    }\n",
       "</style>\n",
       "<table border=\"1\" class=\"dataframe\">\n",
       "  <thead>\n",
       "    <tr style=\"text-align: right;\">\n",
       "      <th></th>\n",
       "      <th>age</th>\n",
       "      <th>Medu</th>\n",
       "      <th>Fedu</th>\n",
       "      <th>traveltime</th>\n",
       "      <th>studytime</th>\n",
       "      <th>failures</th>\n",
       "      <th>famrel</th>\n",
       "      <th>freetime</th>\n",
       "      <th>goout</th>\n",
       "      <th>Dalc</th>\n",
       "      <th>Walc</th>\n",
       "      <th>health</th>\n",
       "      <th>absences</th>\n",
       "    </tr>\n",
       "    <tr>\n",
       "      <th>cluster</th>\n",
       "      <th></th>\n",
       "      <th></th>\n",
       "      <th></th>\n",
       "      <th></th>\n",
       "      <th></th>\n",
       "      <th></th>\n",
       "      <th></th>\n",
       "      <th></th>\n",
       "      <th></th>\n",
       "      <th></th>\n",
       "      <th></th>\n",
       "      <th></th>\n",
       "      <th></th>\n",
       "    </tr>\n",
       "  </thead>\n",
       "  <tbody>\n",
       "    <tr>\n",
       "      <td>0</td>\n",
       "      <td>16.797784</td>\n",
       "      <td>2.385042</td>\n",
       "      <td>2.080332</td>\n",
       "      <td>1.628809</td>\n",
       "      <td>1.916898</td>\n",
       "      <td>0.240997</td>\n",
       "      <td>3.941828</td>\n",
       "      <td>3.207756</td>\n",
       "      <td>3.216066</td>\n",
       "      <td>1.445983</td>\n",
       "      <td>2.252078</td>\n",
       "      <td>3.606648</td>\n",
       "      <td>3.307479</td>\n",
       "    </tr>\n",
       "    <tr>\n",
       "      <td>1</td>\n",
       "      <td>16.632959</td>\n",
       "      <td>2.685393</td>\n",
       "      <td>2.602996</td>\n",
       "      <td>1.494382</td>\n",
       "      <td>1.977528</td>\n",
       "      <td>0.187266</td>\n",
       "      <td>3.925094</td>\n",
       "      <td>3.131086</td>\n",
       "      <td>3.131086</td>\n",
       "      <td>1.528090</td>\n",
       "      <td>2.277154</td>\n",
       "      <td>3.464419</td>\n",
       "      <td>2.880150</td>\n",
       "    </tr>\n",
       "  </tbody>\n",
       "</table>\n",
       "</div>"
      ],
      "text/plain": [
       "               age      Medu      Fedu  traveltime  studytime  failures  \\\n",
       "cluster                                                                   \n",
       "0        16.797784  2.385042  2.080332    1.628809   1.916898  0.240997   \n",
       "1        16.632959  2.685393  2.602996    1.494382   1.977528  0.187266   \n",
       "\n",
       "           famrel  freetime     goout      Dalc      Walc    health  absences  \n",
       "cluster                                                                        \n",
       "0        3.941828  3.207756  3.216066  1.445983  2.252078  3.606648  3.307479  \n",
       "1        3.925094  3.131086  3.131086  1.528090  2.277154  3.464419  2.880150  "
      ]
     },
     "execution_count": 22,
     "metadata": {},
     "output_type": "execute_result"
    }
   ],
   "source": [
    "# display first quarter of features\n",
    "df_dummies.groupby('cluster').mean().iloc[:,0:13]"
   ]
  },
  {
   "cell_type": "code",
   "execution_count": 23,
   "metadata": {},
   "outputs": [
    {
     "data": {
      "text/html": [
       "<div>\n",
       "<style scoped>\n",
       "    .dataframe tbody tr th:only-of-type {\n",
       "        vertical-align: middle;\n",
       "    }\n",
       "\n",
       "    .dataframe tbody tr th {\n",
       "        vertical-align: top;\n",
       "    }\n",
       "\n",
       "    .dataframe thead th {\n",
       "        text-align: right;\n",
       "    }\n",
       "</style>\n",
       "<table border=\"1\" class=\"dataframe\">\n",
       "  <thead>\n",
       "    <tr style=\"text-align: right;\">\n",
       "      <th></th>\n",
       "      <th>G1</th>\n",
       "      <th>G2</th>\n",
       "      <th>school_MS</th>\n",
       "      <th>sex_M</th>\n",
       "      <th>address_U</th>\n",
       "      <th>famsize_LE3</th>\n",
       "      <th>Pstatus_T</th>\n",
       "      <th>Mjob_health</th>\n",
       "      <th>Mjob_other</th>\n",
       "      <th>Mjob_services</th>\n",
       "      <th>Mjob_teacher</th>\n",
       "    </tr>\n",
       "    <tr>\n",
       "      <th>cluster</th>\n",
       "      <th></th>\n",
       "      <th></th>\n",
       "      <th></th>\n",
       "      <th></th>\n",
       "      <th></th>\n",
       "      <th></th>\n",
       "      <th></th>\n",
       "      <th></th>\n",
       "      <th></th>\n",
       "      <th></th>\n",
       "      <th></th>\n",
       "    </tr>\n",
       "  </thead>\n",
       "  <tbody>\n",
       "    <tr>\n",
       "      <td>0</td>\n",
       "      <td>11.351801</td>\n",
       "      <td>11.551247</td>\n",
       "      <td>0.335180</td>\n",
       "      <td>0.393352</td>\n",
       "      <td>0.667590</td>\n",
       "      <td>0.299169</td>\n",
       "      <td>0.858726</td>\n",
       "      <td>0.058172</td>\n",
       "      <td>0.506925</td>\n",
       "      <td>0.152355</td>\n",
       "      <td>0.074792</td>\n",
       "    </tr>\n",
       "    <tr>\n",
       "      <td>1</td>\n",
       "      <td>11.539326</td>\n",
       "      <td>11.685393</td>\n",
       "      <td>0.393258</td>\n",
       "      <td>0.430712</td>\n",
       "      <td>0.722846</td>\n",
       "      <td>0.280899</td>\n",
       "      <td>0.913858</td>\n",
       "      <td>0.101124</td>\n",
       "      <td>0.250936</td>\n",
       "      <td>0.284644</td>\n",
       "      <td>0.157303</td>\n",
       "    </tr>\n",
       "  </tbody>\n",
       "</table>\n",
       "</div>"
      ],
      "text/plain": [
       "                G1         G2  school_MS     sex_M  address_U  famsize_LE3  \\\n",
       "cluster                                                                      \n",
       "0        11.351801  11.551247   0.335180  0.393352   0.667590     0.299169   \n",
       "1        11.539326  11.685393   0.393258  0.430712   0.722846     0.280899   \n",
       "\n",
       "         Pstatus_T  Mjob_health  Mjob_other  Mjob_services  Mjob_teacher  \n",
       "cluster                                                                   \n",
       "0         0.858726     0.058172    0.506925       0.152355      0.074792  \n",
       "1         0.913858     0.101124    0.250936       0.284644      0.157303  "
      ]
     },
     "execution_count": 23,
     "metadata": {},
     "output_type": "execute_result"
    }
   ],
   "source": [
    "# display second quarter of features\n",
    "df_dummies.groupby('cluster').mean().iloc[:,13:24]"
   ]
  },
  {
   "cell_type": "code",
   "execution_count": 24,
   "metadata": {},
   "outputs": [
    {
     "data": {
      "text/html": [
       "<div>\n",
       "<style scoped>\n",
       "    .dataframe tbody tr th:only-of-type {\n",
       "        vertical-align: middle;\n",
       "    }\n",
       "\n",
       "    .dataframe tbody tr th {\n",
       "        vertical-align: top;\n",
       "    }\n",
       "\n",
       "    .dataframe thead th {\n",
       "        text-align: right;\n",
       "    }\n",
       "</style>\n",
       "<table border=\"1\" class=\"dataframe\">\n",
       "  <thead>\n",
       "    <tr style=\"text-align: right;\">\n",
       "      <th></th>\n",
       "      <th>Fjob_health</th>\n",
       "      <th>Fjob_other</th>\n",
       "      <th>Fjob_services</th>\n",
       "      <th>Fjob_teacher</th>\n",
       "      <th>reason_home</th>\n",
       "      <th>reason_other</th>\n",
       "      <th>reason_reputation</th>\n",
       "      <th>guardian_mother</th>\n",
       "      <th>guardian_other</th>\n",
       "    </tr>\n",
       "    <tr>\n",
       "      <th>cluster</th>\n",
       "      <th></th>\n",
       "      <th></th>\n",
       "      <th></th>\n",
       "      <th></th>\n",
       "      <th></th>\n",
       "      <th></th>\n",
       "      <th></th>\n",
       "      <th></th>\n",
       "      <th></th>\n",
       "    </tr>\n",
       "  </thead>\n",
       "  <tbody>\n",
       "    <tr>\n",
       "      <td>0</td>\n",
       "      <td>0.000000</td>\n",
       "      <td>0.98615</td>\n",
       "      <td>0.000000</td>\n",
       "      <td>0.000000</td>\n",
       "      <td>0.246537</td>\n",
       "      <td>0.088643</td>\n",
       "      <td>0.224377</td>\n",
       "      <td>0.736842</td>\n",
       "      <td>0.080332</td>\n",
       "    </tr>\n",
       "    <tr>\n",
       "      <td>1</td>\n",
       "      <td>0.086142</td>\n",
       "      <td>0.00000</td>\n",
       "      <td>0.655431</td>\n",
       "      <td>0.127341</td>\n",
       "      <td>0.183521</td>\n",
       "      <td>0.146067</td>\n",
       "      <td>0.217228</td>\n",
       "      <td>0.659176</td>\n",
       "      <td>0.026217</td>\n",
       "    </tr>\n",
       "  </tbody>\n",
       "</table>\n",
       "</div>"
      ],
      "text/plain": [
       "         Fjob_health  Fjob_other  Fjob_services  Fjob_teacher  reason_home  \\\n",
       "cluster                                                                      \n",
       "0           0.000000     0.98615       0.000000      0.000000     0.246537   \n",
       "1           0.086142     0.00000       0.655431      0.127341     0.183521   \n",
       "\n",
       "         reason_other  reason_reputation  guardian_mother  guardian_other  \n",
       "cluster                                                                    \n",
       "0            0.088643           0.224377         0.736842        0.080332  \n",
       "1            0.146067           0.217228         0.659176        0.026217  "
      ]
     },
     "execution_count": 24,
     "metadata": {},
     "output_type": "execute_result"
    }
   ],
   "source": [
    "# display third quarter of features\n",
    "df_dummies.groupby('cluster').mean().iloc[:,24:33]"
   ]
  },
  {
   "cell_type": "code",
   "execution_count": 25,
   "metadata": {},
   "outputs": [
    {
     "data": {
      "text/html": [
       "<div>\n",
       "<style scoped>\n",
       "    .dataframe tbody tr th:only-of-type {\n",
       "        vertical-align: middle;\n",
       "    }\n",
       "\n",
       "    .dataframe tbody tr th {\n",
       "        vertical-align: top;\n",
       "    }\n",
       "\n",
       "    .dataframe thead th {\n",
       "        text-align: right;\n",
       "    }\n",
       "</style>\n",
       "<table border=\"1\" class=\"dataframe\">\n",
       "  <thead>\n",
       "    <tr style=\"text-align: right;\">\n",
       "      <th></th>\n",
       "      <th>schoolsup_yes</th>\n",
       "      <th>famsup_yes</th>\n",
       "      <th>paid_yes</th>\n",
       "      <th>activities_yes</th>\n",
       "      <th>nursery_yes</th>\n",
       "      <th>higher_yes</th>\n",
       "      <th>internet_yes</th>\n",
       "      <th>romantic_yes</th>\n",
       "    </tr>\n",
       "    <tr>\n",
       "      <th>cluster</th>\n",
       "      <th></th>\n",
       "      <th></th>\n",
       "      <th></th>\n",
       "      <th></th>\n",
       "      <th></th>\n",
       "      <th></th>\n",
       "      <th></th>\n",
       "      <th></th>\n",
       "    </tr>\n",
       "  </thead>\n",
       "  <tbody>\n",
       "    <tr>\n",
       "      <td>0</td>\n",
       "      <td>0.102493</td>\n",
       "      <td>0.581717</td>\n",
       "      <td>0.069252</td>\n",
       "      <td>0.451524</td>\n",
       "      <td>0.792244</td>\n",
       "      <td>0.889197</td>\n",
       "      <td>0.753463</td>\n",
       "      <td>0.365651</td>\n",
       "    </tr>\n",
       "    <tr>\n",
       "      <td>1</td>\n",
       "      <td>0.112360</td>\n",
       "      <td>0.651685</td>\n",
       "      <td>0.052434</td>\n",
       "      <td>0.539326</td>\n",
       "      <td>0.820225</td>\n",
       "      <td>0.910112</td>\n",
       "      <td>0.771536</td>\n",
       "      <td>0.363296</td>\n",
       "    </tr>\n",
       "  </tbody>\n",
       "</table>\n",
       "</div>"
      ],
      "text/plain": [
       "         schoolsup_yes  famsup_yes  paid_yes  activities_yes  nursery_yes  \\\n",
       "cluster                                                                     \n",
       "0             0.102493    0.581717  0.069252        0.451524     0.792244   \n",
       "1             0.112360    0.651685  0.052434        0.539326     0.820225   \n",
       "\n",
       "         higher_yes  internet_yes  romantic_yes  \n",
       "cluster                                          \n",
       "0          0.889197      0.753463      0.365651  \n",
       "1          0.910112      0.771536      0.363296  "
      ]
     },
     "execution_count": 25,
     "metadata": {},
     "output_type": "execute_result"
    }
   ],
   "source": [
    "# display fourth quarter of features\n",
    "df_dummies.groupby('cluster').mean().iloc[:,33:]"
   ]
  },
  {
   "cell_type": "markdown",
   "metadata": {},
   "source": [
    "===================================================================================================================\n",
    "\n",
    "## 11 - Conclusion\n",
    "\n",
    "__Best Value of K__\n",
    "\n",
    "We used both the Elbow Method and Silhouette Method to try and determine the best value for k based on a full feature set. However, the elbow method did not provide us with a definitive value. The Silhouette method did suggest that a value of 2 might be optimal.\n",
    "\n",
    "\n",
    "__Clustering Algtorithm__\n",
    "\n",
    "We used a k-Mean Clustering algorithm with a k value of 2. After experimenting with the hyper-parameters, we settled on an n_init value (number of times the algorithm will run with different centroid seeds, final results will be the best output of n_init consecutive runs in terms of inertia) of 100 and a max_iter value (max number of iterations of the k-means algorithm for a single run) of 300.\n",
    "\n",
    "\n",
    "__Visualisation__\n",
    "\n",
    "We appear to be getting a trade off between the two visualisation methods:\n",
    "1. Using MDS gives us clearly distinct cluster groups, but positions the cluster center points very close together, and not central to their cluster.\n",
    "\n",
    "2. Using t_SNE gives us less clearly defined cluster groups, however it does calculate the cluster center points centrally within each cluster.\n",
    "\n",
    "Overall the clustering is evident \n",
    "\n",
    "__Cluster Analysis__\n",
    "\n",
    "It is hard to gain any insight from this beacause we have so many features. There is not much difference in the mean value of any of the attributes between cluster 0 and cluster 1.\n",
    "\n",
    "An interesting future study would be to apply PCA in order to reduce the dimensionality of our dataset. We could then check if the clustering shows an improvement and provides a clearer representation of the relationship between clusters and association of the dataset features.\n",
    "\n",
    "==================================================================================================================="
   ]
  }
 ],
 "metadata": {
  "kernelspec": {
   "display_name": "Python 3",
   "language": "python",
   "name": "python3"
  },
  "language_info": {
   "codemirror_mode": {
    "name": "ipython",
    "version": 3
   },
   "file_extension": ".py",
   "mimetype": "text/x-python",
   "name": "python",
   "nbconvert_exporter": "python",
   "pygments_lexer": "ipython3",
   "version": "3.7.4"
  }
 },
 "nbformat": 4,
 "nbformat_minor": 2
}
